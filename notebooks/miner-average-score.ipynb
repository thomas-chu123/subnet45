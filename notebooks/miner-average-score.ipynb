{
 "cells": [
  {
   "cell_type": "code",
   "execution_count": null,
   "metadata": {},
   "outputs": [],
   "source": [
    "import wandb\n",
    "api = wandb.Api()\n",
    "\n",
    "runs = api.runs(\"gen42/gen42\") # set this to gen42testnet if you want to see the testnet runs\n",
    "running_runs = [run for run in runs if run.state == 'running']\n",
    "run_urls = [\"/\".join(run.path) for run in running_runs]\n",
    "\n"
   ]
  },
  {
   "cell_type": "code",
   "execution_count": null,
   "metadata": {},
   "outputs": [],
   "source": [
    "def get_miner_average_score(miner_hotkey: str):\n",
    "    scores = []\n",
    "    for run in run_urls:\n",
    "        run = api.run(run)\n",
    "        history = run.scan_history()\n",
    "        for item in history:\n",
    "            miner_hotkeys = item.get('miner_hotkeys', [])\n",
    "            if miner_hotkey in miner_hotkeys:\n",
    "                # get the reward using the same index as the miner_hotkey\n",
    "                scores.append(item.get('rewards', 0).get(miner_hotkeys.index(miner_hotkey), 0))\n",
    "                \n"
   ]
  }
 ],
 "metadata": {
  "language_info": {
   "name": "python"
  }
 },
 "nbformat": 4,
 "nbformat_minor": 2
}
